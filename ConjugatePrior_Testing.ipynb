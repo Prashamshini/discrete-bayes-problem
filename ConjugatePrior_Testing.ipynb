{
  "nbformat": 4,
  "nbformat_minor": 0,
  "metadata": {
    "colab": {
      "provenance": []
    },
    "kernelspec": {
      "name": "python3",
      "display_name": "Python 3"
    },
    "language_info": {
      "name": "python"
    }
  },
  "cells": [
    {
      "cell_type": "code",
      "execution_count": 1,
      "metadata": {
        "id": "8MDxcDdBWI4X"
      },
      "outputs": [],
      "source": [
        "# imports and setup\n",
        "import numpy as np\n",
        "from scipy.stats import norm, invgamma\n",
        "import scipy.integrate as integrate\n",
        "import matplotlib.pyplot as plt"
      ]
    },
    {
      "cell_type": "markdown",
      "source": [
        "## Discrete Bayes Problem"
      ],
      "metadata": {
        "id": "6_t-XQyHxe0j"
      }
    },
    {
      "cell_type": "code",
      "source": [
        "def bucket_probability(dist_space, start_b, end_b):\n",
        "  \"\"\"Calculate probability of a bucket given the distribution\"\"\"\n",
        "  cdf_start_b = dist_space.cdf(start_b)\n",
        "  cdf_end_b = dist_space.cdf(end_b)\n",
        "  return cdf_end_b - cdf_start_b"
      ],
      "metadata": {
        "id": "mZET7aVMWRap"
      },
      "execution_count": 2,
      "outputs": []
    },
    {
      "cell_type": "code",
      "source": [
        "def create_buckets(start_b, end_b, number_of_buckets, include_mid_point = False):\n",
        "  \"\"\"Dividing into equal sized buckets\"\"\"\n",
        "  bp = np.linspace(start_b, end_b, number_of_buckets+1)\n",
        "  buckets = []\n",
        "  for i in range(len(bp)-1):\n",
        "    if include_mid_point:\n",
        "      buckets.append((bp[i], bp[i+1], (bp[i]+bp[i+1])/2))\n",
        "    else:\n",
        "      buckets.append((bp[i], bp[i+1]))\n",
        "  return buckets"
      ],
      "metadata": {
        "id": "f0UjamSToRD_"
      },
      "execution_count": 3,
      "outputs": []
    },
    {
      "cell_type": "code",
      "source": [
        "def prior_probability(mu0, std0, prior_buckets):\n",
        "  \"\"\"Dividing prior parameter space into buckets and calculating probability of each bucket\"\"\"\n",
        "  prior_space = norm(loc=mu0, scale=std0)\n",
        "  prior_prob = []\n",
        "  for i, j, _ in prior_buckets:\n",
        "    prior_prob.append(bucket_probability(prior_space, i, j))\n",
        "  return prior_prob"
      ],
      "metadata": {
        "id": "WDiIbXqDoyHy"
      },
      "execution_count": 4,
      "outputs": []
    },
    {
      "cell_type": "code",
      "source": [
        "prior_mean = 3\n",
        "prior_std = 1\n",
        "num_of_buckets = 12\n",
        "\n",
        "prior_buckets = create_buckets(prior_mean-3*prior_std, prior_mean+3*prior_std, num_of_buckets, True)\n",
        "\n",
        "prior_prob = prior_probability(prior_mean, prior_std, prior_buckets)\n",
        "prior_prob"
      ],
      "metadata": {
        "colab": {
          "base_uri": "https://localhost:8080/"
        },
        "id": "gaFRsZelo5LS",
        "outputId": "783ad664-bd0e-4719-ff82-90c23c701457"
      },
      "execution_count": 5,
      "outputs": [
        {
          "output_type": "execute_result",
          "data": {
            "text/plain": [
              "[0.004859767294146039,\n",
              " 0.016540466622403063,\n",
              " 0.04405706932067888,\n",
              " 0.091848052662599,\n",
              " 0.1498822847945298,\n",
              " 0.19146246127401312,\n",
              " 0.19146246127401312,\n",
              " 0.1498822847945298,\n",
              " 0.09184805266259899,\n",
              " 0.04405706932067888,\n",
              " 0.01654046662240305,\n",
              " 0.004859767294146056]"
            ]
          },
          "metadata": {},
          "execution_count": 5
        }
      ]
    },
    {
      "cell_type": "code",
      "source": [
        "def likelihood_probability(std1, likelihood_buckets, prior_prob, prior_buckets):\n",
        "  \"\"\"Calculating probability of going from every prior bucket to every likelihood bucket\"\"\"\n",
        "  likelihood_matrix = []\n",
        "\n",
        "  for i in range(len(prior_prob)):\n",
        "    prob_i = prior_prob[i]\n",
        "    start_i, end_i, _ = prior_buckets[i]\n",
        "    likelihood_i = []\n",
        "    for j in range(len(likelihood_buckets)):\n",
        "      start_j, end_j = likelihood_buckets[j]\n",
        "      prob_ij, _ = integrate.quad(lambda mu: bucket_probability(norm(loc=mu, scale=std1), start_j, end_j) * prob_i, start_i, end_i)\n",
        "      likelihood_i.append(prob_ij)\n",
        "\n",
        "    likelihood_matrix.append(likelihood_i)\n",
        "\n",
        "  likelihood_matrix = np.asarray(likelihood_matrix)\n",
        "  return likelihood_matrix"
      ],
      "metadata": {
        "id": "k7ITYDhOpefi"
      },
      "execution_count": 6,
      "outputs": []
    },
    {
      "cell_type": "code",
      "source": [
        "likelihood_std = 0.5\n",
        "\n",
        "likelihood_buckets = create_buckets(prior_mean-3*prior_std-3*likelihood_std, prior_mean+3*prior_std+3*likelihood_std, num_of_buckets)\n",
        "likelihood_prob = likelihood_probability(likelihood_std, likelihood_buckets, prior_prob, prior_buckets)\n",
        "\n",
        "likelihood_prob"
      ],
      "metadata": {
        "colab": {
          "base_uri": "https://localhost:8080/"
        },
        "id": "_F-3pe-zpxRI",
        "outputId": "9e7a100f-39be-465f-a403-09268161c147"
      },
      "execution_count": 7,
      "outputs": [
        {
          "output_type": "execute_result",
          "data": {
            "text/plain": [
              "array([[6.54310504e-05, 7.00594145e-04, 1.25353670e-03, 3.89707692e-04,\n",
              "        1.95624139e-05, 1.40285447e-07, 1.29511308e-10, 1.43641106e-14,\n",
              "        1.76137863e-19, 0.00000000e+00, 0.00000000e+00, 0.00000000e+00],\n",
              "       [1.60323804e-05, 6.02727257e-04, 3.51629837e-03, 3.51629837e-03,\n",
              "        6.02727257e-04, 1.60323804e-05, 5.86239432e-08, 2.68692874e-11,\n",
              "        1.45521723e-15, 0.00000000e+00, 0.00000000e+00, 0.00000000e+00],\n",
              "       [1.27178223e-06, 1.77346481e-04, 3.53296316e-03, 1.13641559e-02,\n",
              "        6.35135860e-03, 5.93176617e-04, 8.24567927e-06, 1.52173306e-08,\n",
              "        3.44034648e-12, 9.07041421e-17, 0.00000000e+00, 0.00000000e+00],\n",
              "       [3.17243568e-08, 1.71901944e-05, 1.23662599e-03, 1.32410060e-02,\n",
              "        2.36914441e-02, 7.36535116e-03, 3.69723387e-04, 2.65135023e-06,\n",
              "        2.44772245e-09, 2.71477112e-13, 3.32894945e-18, 0.00000000e+00],\n",
              "       [2.43477423e-10, 5.31223862e-07, 1.45278236e-04, 5.46164389e-03,\n",
              "        3.18631176e-02, 3.18631176e-02, 5.46164389e-03, 1.45278236e-04,\n",
              "        5.31223862e-07, 2.43477423e-10, 1.31865254e-14, 0.00000000e+00],\n",
              "       [5.65908742e-13, 5.10241590e-09, 5.52688953e-06, 7.70709315e-04,\n",
              "        1.53534911e-02, 4.93861553e-02, 2.76016260e-02, 2.57781684e-03,\n",
              "        3.58339325e-05, 6.61312162e-08, 1.49509991e-11, 3.94180515e-16],\n",
              "       [3.93845872e-16, 1.49510004e-11, 6.61312162e-08, 3.58339325e-05,\n",
              "        2.57781684e-03, 2.76016260e-02, 4.93861553e-02, 1.53534911e-02,\n",
              "        7.70709315e-04, 5.52688953e-06, 5.10241590e-09, 5.65909396e-13],\n",
              "       [8.14011764e-20, 1.31863446e-14, 2.43477423e-10, 5.31223862e-07,\n",
              "        1.45278236e-04, 5.46164389e-03, 3.18631176e-02, 3.18631176e-02,\n",
              "        5.46164389e-03, 1.45278236e-04, 5.31223862e-07, 2.43477423e-10],\n",
              "       [4.96631669e-24, 3.46681706e-18, 2.71476798e-13, 2.44772245e-09,\n",
              "        2.65135023e-06, 3.69723387e-04, 7.36535116e-03, 2.36914441e-02,\n",
              "        1.32410060e-02, 1.23662599e-03, 1.71901944e-05, 3.17243568e-08],\n",
              "       [8.90357909e-29, 2.69784352e-22, 9.06271380e-17, 3.44034678e-12,\n",
              "        1.52173306e-08, 8.24567927e-06, 5.93176617e-04, 6.35135860e-03,\n",
              "        1.13641559e-02, 3.53296316e-03, 1.77346481e-04, 1.27178223e-06],\n",
              "       [4.67416659e-34, 6.18149388e-27, 8.98313929e-21, 1.45519727e-15,\n",
              "        2.68692874e-11, 5.86239432e-08, 1.60323804e-05, 6.02727257e-04,\n",
              "        3.51629837e-03, 3.51629837e-03, 6.02727257e-04, 1.60323804e-05],\n",
              "       [7.16570914e-40, 4.15353989e-32, 2.62772511e-25, 1.83432568e-19,\n",
              "        1.43640940e-14, 1.29511309e-10, 1.40285447e-07, 1.95624139e-05,\n",
              "        3.89707692e-04, 1.25353670e-03, 7.00594145e-04, 6.54310504e-05]])"
            ]
          },
          "metadata": {},
          "execution_count": 7
        }
      ]
    },
    {
      "cell_type": "code",
      "source": [
        "evidence_prob = []\n",
        "\n",
        "for i in range(12):\n",
        "  evidence_prob.append(sum(likelihood_prob[:,i]))\n",
        "\n",
        "evidence_prob"
      ],
      "metadata": {
        "colab": {
          "base_uri": "https://localhost:8080/"
        },
        "id": "xFH53fqHpzeA",
        "outputId": "ab59fe2d-71d7-4f24-e55c-7659ffcae19a"
      },
      "execution_count": 8,
      "outputs": [
        {
          "output_type": "execute_result",
          "data": {
            "text/plain": [
              "[8.276718140751229e-05,\n",
              " 0.0014983944187436265,\n",
              " 0.00969029572395845,\n",
              " 0.034779888817666804,\n",
              " 0.08060746272723257,\n",
              " 0.12266527105455974,\n",
              " 0.12266527105455972,\n",
              " 0.08060746272723258,\n",
              " 0.0347798888176668,\n",
              " 0.00969029572395845,\n",
              " 0.0014983944187436273,\n",
              " 8.27671814075136e-05]"
            ]
          },
          "metadata": {},
          "execution_count": 8
        }
      ]
    },
    {
      "cell_type": "code",
      "source": [
        "posterior_prob = []\n",
        "for i in range(len(prior_prob)):\n",
        "  temp = []\n",
        "  for j in range(len(evidence_prob)):\n",
        "    temp.append(likelihood_prob[i,j] / evidence_prob[j])\n",
        "\n",
        "  posterior_prob.append(temp)\n",
        "\n",
        "posterior_prob = np.asarray(posterior_prob).T\n",
        "posterior_prob"
      ],
      "metadata": {
        "colab": {
          "base_uri": "https://localhost:8080/"
        },
        "id": "_wE6j5Fwp2Kq",
        "outputId": "5f14b664-0fb9-415f-92ea-ca3a131ba578"
      },
      "execution_count": 9,
      "outputs": [
        {
          "output_type": "execute_result",
          "data": {
            "text/plain": [
              "array([[7.90543417e-01, 1.93704559e-01, 1.53657791e-02, 3.83296329e-04,\n",
              "        2.94171456e-06, 6.83735670e-09, 4.75847873e-12, 9.83495813e-16,\n",
              "        6.00034531e-20, 1.07573786e-24, 5.64736712e-30, 8.65766965e-36],\n",
              "       [4.67563237e-01, 4.02248734e-01, 1.18357676e-01, 1.14724095e-02,\n",
              "        3.54528724e-04, 3.40525554e-06, 9.97801395e-09, 8.80031613e-12,\n",
              "        2.31368792e-15, 1.80048957e-19, 4.12541171e-24, 2.77199370e-29],\n",
              "       [1.29360005e-01, 3.62868014e-01, 3.64587755e-01, 1.27614887e-01,\n",
              "        1.49921364e-02, 5.70353031e-04, 6.82447865e-06, 2.51259022e-08,\n",
              "        2.80153265e-11, 9.35236040e-15, 9.27024267e-19, 2.71170786e-23],\n",
              "       [1.12049723e-02, 1.01101484e-01, 3.26745034e-01, 3.80708693e-01,\n",
              "        1.57034541e-01, 2.21596256e-02, 1.03030613e-03, 1.52738804e-05,\n",
              "        7.03775236e-08, 9.89177048e-11, 4.18401934e-14, 5.27409875e-18],\n",
              "       [2.42687380e-04, 7.47731335e-03, 7.87936797e-02, 2.93911299e-01,\n",
              "        3.95287440e-01, 1.90472328e-01, 3.19798781e-02, 1.80229262e-03,\n",
              "        3.28921187e-05, 1.88783149e-07, 3.33334985e-10, 1.78198067e-13],\n",
              "       [1.14364437e-06, 1.30700240e-04, 4.83573396e-03, 6.00443067e-02,\n",
              "        2.59756631e-01, 4.02609107e-01, 2.25015816e-01, 4.45247774e-02,\n",
              "        3.01408365e-03, 6.72209763e-05, 4.77918018e-07, 1.05581072e-09],\n",
              "       [1.05581072e-09, 4.77918018e-07, 6.72209763e-05, 3.01408365e-03,\n",
              "        4.45247774e-02, 2.25015816e-01, 4.02609107e-01, 2.59756631e-01,\n",
              "        6.00443067e-02, 4.83573396e-03, 1.30700240e-04, 1.14364437e-06],\n",
              "       [1.78198273e-13, 3.33334985e-10, 1.88783149e-07, 3.28921187e-05,\n",
              "        1.80229262e-03, 3.19798781e-02, 1.90472328e-01, 3.95287440e-01,\n",
              "        2.93911299e-01, 7.87936797e-02, 7.47731335e-03, 2.42687380e-04],\n",
              "       [5.06435956e-18, 4.18407671e-14, 9.89176963e-11, 7.03775236e-08,\n",
              "        1.52738804e-05, 1.03030613e-03, 2.21596256e-02, 1.57034541e-01,\n",
              "        3.80708693e-01, 3.26745034e-01, 1.01101484e-01, 1.12049723e-02],\n",
              "       [0.00000000e+00, 0.00000000e+00, 9.36030692e-15, 2.80153588e-11,\n",
              "        2.51259022e-08, 6.82447865e-06, 5.70353031e-04, 1.49921364e-02,\n",
              "        1.27614887e-01, 3.64587755e-01, 3.62868014e-01, 1.29360005e-01],\n",
              "       [0.00000000e+00, 0.00000000e+00, 0.00000000e+00, 2.22167769e-15,\n",
              "        8.80043679e-12, 9.97801309e-09, 3.40525554e-06, 3.54528724e-04,\n",
              "        1.14724095e-02, 1.18357676e-01, 4.02248734e-01, 4.67563237e-01],\n",
              "       [0.00000000e+00, 0.00000000e+00, 0.00000000e+00, 0.00000000e+00,\n",
              "        0.00000000e+00, 4.76252192e-12, 6.83736460e-09, 2.94171456e-06,\n",
              "        3.83296329e-04, 1.53657791e-02, 1.93704559e-01, 7.90543417e-01]])"
            ]
          },
          "metadata": {},
          "execution_count": 9
        }
      ]
    },
    {
      "cell_type": "code",
      "source": [
        "sum(posterior_prob[0])"
      ],
      "metadata": {
        "colab": {
          "base_uri": "https://localhost:8080/"
        },
        "id": "nHWrMIzsuyMh",
        "outputId": "2d32af44-573e-4863-867f-32271d6cec80"
      },
      "execution_count": 10,
      "outputs": [
        {
          "output_type": "execute_result",
          "data": {
            "text/plain": [
              "0.9999999999999999"
            ]
          },
          "metadata": {},
          "execution_count": 10
        }
      ]
    },
    {
      "cell_type": "markdown",
      "source": [
        "## Testing"
      ],
      "metadata": {
        "id": "p5XLuNG9xbf4"
      }
    },
    {
      "cell_type": "code",
      "source": [
        "observed_data = norm.rvs(loc=2, scale=0.5, size=10)\n",
        "observed_data"
      ],
      "metadata": {
        "colab": {
          "base_uri": "https://localhost:8080/"
        },
        "id": "bqvH-GR3qc1n",
        "outputId": "d0af163e-c33c-4d24-94a7-9294572ed569"
      },
      "execution_count": 11,
      "outputs": [
        {
          "output_type": "execute_result",
          "data": {
            "text/plain": [
              "array([1.27667071, 1.22787334, 1.78157338, 2.04325042, 2.49406211,\n",
              "       2.02910087, 2.19679839, 2.45735056, 1.35625202, 2.57197111])"
            ]
          },
          "metadata": {},
          "execution_count": 11
        }
      ]
    },
    {
      "cell_type": "code",
      "source": [
        "bar_x = []\n",
        "bar_xx = []\n",
        "for i,j,k in prior_buckets:\n",
        "  bar_x.append(k)\n",
        "  bar_xx.extend([i,j])\n",
        "\n",
        "# x = [observed_data[0]]\n",
        "x = [1.9587854306724626]\n",
        "\n",
        "actual_mean = (likelihood_std**2 * prior_mean + prior_std**2 * np.sum(x)) / (len(x) * prior_std**2 + likelihood_std**2)\n",
        "actual_std = np.sqrt(1 / (1/prior_std**2 + len(x)/likelihood_std**2))\n",
        "line_x = np.linspace(prior_buckets[0][0], prior_buckets[-1][1], 100)\n",
        "actual_pdf = norm.pdf(line_x, actual_mean, actual_std)\n",
        "observed_pdf = []\n",
        "\n",
        "for i in range(len(likelihood_buckets)):\n",
        "  b_i, b_j = likelihood_buckets[i]\n",
        "  if x >= b_i and x < b_j:\n",
        "    observed_pdf = posterior_prob[i]\n",
        "    plt.bar(bar_x, observed_pdf, width=0.5)\n",
        "    plt.plot(line_x, actual_pdf, color='r')\n",
        "    plt.show()\n",
        "    break"
      ],
      "metadata": {
        "colab": {
          "base_uri": "https://localhost:8080/",
          "height": 430
        },
        "id": "sTBO7aWR8Rin",
        "outputId": "2270ae29-ebd5-4e68-b867-99014cca2c35"
      },
      "execution_count": 12,
      "outputs": [
        {
          "output_type": "display_data",
          "data": {
            "text/plain": [
              "<Figure size 640x480 with 1 Axes>"
            ],
            "image/png": "[encoded data removed]"
          },
          "metadata": {}
        }
      ]
    },
    {
      "cell_type": "code",
      "source": [
        "actual_cdf = norm.cdf(line_x, actual_mean, actual_std)\n",
        "observed_cdf = np.cumsum(observed_pdf)\n",
        "observed_cdf = np.repeat(observed_cdf, 2)\n",
        "plt.plot(bar_xx, observed_cdf)\n",
        "plt.plot(line_x, actual_cdf, color='r')\n",
        "plt.show()"
      ],
      "metadata": {
        "colab": {
          "base_uri": "https://localhost:8080/",
          "height": 430
        },
        "id": "WTOydiEsWmDF",
        "outputId": "9c5b598f-24f6-47f9-98fe-cef789f67dcc"
      },
      "execution_count": 13,
      "outputs": [
        {
          "output_type": "display_data",
          "data": {
            "text/plain": [
              "<Figure size 640x480 with 1 Axes>"
            ],
            "image/png": "[encoded data removed]"
          },
          "metadata": {}
        }
      ]
    },
    {
      "cell_type": "markdown",
      "source": [
        "### KS Test\n",
        "\n",
        "The KS test measures the maximum difference between the empirical cumulative distribution function (CDF) of the data and the CDF of the fitted distribution"
      ],
      "metadata": {
        "id": "BDtG3l7vnhl6"
      }
    },
    {
      "cell_type": "code",
      "source": [
        "ks_statistic = np.max(np.abs(observed_cdf - norm.cdf(bar_xx, actual_mean, actual_std)))\n",
        "ks_statistic"
      ],
      "metadata": {
        "colab": {
          "base_uri": "https://localhost:8080/"
        },
        "id": "zDkMFP6qZA32",
        "outputId": "61167f9b-4895-447a-c9af-26ce2bf33104"
      },
      "execution_count": 14,
      "outputs": [
        {
          "output_type": "execute_result",
          "data": {
            "text/plain": [
              "0.4213193105381274"
            ]
          },
          "metadata": {},
          "execution_count": 14
        }
      ]
    },
    {
      "cell_type": "markdown",
      "source": [
        "Thoughts:\n",
        "\n",
        "Can be observed that larger the length of the steps, greater the difference because the buckets smooth over more values."
      ],
      "metadata": {
        "id": "_3pybGkQtBYB"
      }
    },
    {
      "cell_type": "markdown",
      "source": [
        "### L1 Test\n",
        "\n",
        "The L1 test measures the area difference where the the PDF curve does not overlap with the buckets."
      ],
      "metadata": {
        "id": "AKGy8WhnvoeX"
      }
    },
    {
      "cell_type": "code",
      "source": [
        "actual_pdf_disc = prior_probability(actual_mean, actual_std, prior_buckets)\n",
        "l1_statistic = np.sum(np.abs(actual_pdf_disc - observed_pdf))\n",
        "l1_statistic"
      ],
      "metadata": {
        "colab": {
          "base_uri": "https://localhost:8080/"
        },
        "id": "mwFOm9apwLCU",
        "outputId": "6f1897fe-eedc-4fc0-934f-6dffff6f5803"
      },
      "execution_count": 15,
      "outputs": [
        {
          "output_type": "execute_result",
          "data": {
            "text/plain": [
              "0.0571736705709698"
            ]
          },
          "metadata": {},
          "execution_count": 15
        }
      ]
    },
    {
      "cell_type": "markdown",
      "source": [
        "### L2 Test"
      ],
      "metadata": {
        "id": "hzdSwPRtHnIY"
      }
    },
    {
      "cell_type": "code",
      "source": [
        "l2_statistic = np.sum(np.abs(actual_pdf_disc - observed_pdf)**2)\n",
        "l2_statistic"
      ],
      "metadata": {
        "colab": {
          "base_uri": "https://localhost:8080/"
        },
        "id": "mJb3HU9luNwi",
        "outputId": "94d35b74-560e-4723-bfd2-5ddf316c2ba8"
      },
      "execution_count": 16,
      "outputs": [
        {
          "output_type": "execute_result",
          "data": {
            "text/plain": [
              "0.0008357129392065198"
            ]
          },
          "metadata": {},
          "execution_count": 16
        }
      ]
    },
    {
      "cell_type": "markdown",
      "source": [
        "Thoughts:\n",
        "\n",
        "Since area under the curve and bar plot are lesser than 1, and squaring such values only makes them smaller."
      ],
      "metadata": {
        "id": "5YVNtuX1IAjk"
      }
    },
    {
      "cell_type": "code",
      "source": [],
      "metadata": {
        "id": "YQPgMwj6H5Wv"
      },
      "execution_count": null,
      "outputs": []
    }
  ]
}