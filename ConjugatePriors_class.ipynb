{
  "nbformat": 4,
  "nbformat_minor": 0,
  "metadata": {
    "colab": {
      "provenance": []
    },
    "kernelspec": {
      "name": "python3",
      "display_name": "Python 3"
    },
    "language_info": {
      "name": "python"
    }
  },
  "cells": [
    {
      "cell_type": "code",
      "execution_count": 1,
      "metadata": {
        "id": "NNthnVbPPYdT"
      },
      "outputs": [],
      "source": [
        "# imports and setup\n",
        "import math\n",
        "import numpy as np\n",
        "from scipy.stats import norm, invgamma\n",
        "import scipy.integrate as integrate\n",
        "import matplotlib.pyplot as plt"
      ]
    },
    {
      "cell_type": "code",
      "source": [
        "class BayesProblem:\n",
        "    def __init__(self, prior_dist, likelihood_dist, likelihood_space_dim, num_of_buckets, strategy=\"equal_interval\"):\n",
        "      self.num_of_buckets = num_of_buckets\n",
        "      self.num_of_prior = len(prior_dist)\n",
        "      self.strategy = strategy\n",
        "\n",
        "      # Prior\n",
        "      self.prior_dist = prior_dist\n",
        "      self.prior_buckets = self.create_buckets([self.prior_dist],\n",
        "                                               self.num_of_buckets,\n",
        "                                               self.strategy,\n",
        "                                               include_mid_point=True)\n",
        "      self.prior_prob = self.discrete_probability(self.prior_dist, self.prior_buckets)\n",
        "\n",
        "      # Likelihood\n",
        "      self.likelihood_dist = likelihood_dist\n",
        "      self.likelihood_prob = self.likelihood_probability(*likelihood_space_dim)\n",
        "\n",
        "      # Posterior\n",
        "      self.posterior_prob = self.posterior_probability()\n",
        "\n",
        "    def dist_stats(self, dist):\n",
        "      dist_mean = []\n",
        "      dist_std = []\n",
        "\n",
        "      for i in range(len(dist)):\n",
        "        m, v = dist[i].stats(moments='mv')\n",
        "        dist_mean.append(m)\n",
        "        std = math.sqrt(v)\n",
        "        dist_std.append(std)\n",
        "\n",
        "      return (dist_mean, dist_std)\n",
        "\n",
        "    def start_end_dist(self, mu, std):\n",
        "      start_dist = []\n",
        "      end_dist = []\n",
        "\n",
        "      for i in range(len(mu)):\n",
        "        start_dist.append(mu[i] - 3*std[i])\n",
        "        end_dist.append(mu[i] + 3*std[i])\n",
        "\n",
        "      return [start_dist, end_dist]\n",
        "\n",
        "    def multiply_lists(self, *args):\n",
        "      if len(args) == 0:\n",
        "        return []\n",
        "\n",
        "      if len(args) == 1:\n",
        "        return args[0]\n",
        "\n",
        "      current_list = args[0]\n",
        "      remaining_lists = args[1:]\n",
        "\n",
        "      temp = []\n",
        "      for item1 in current_list:\n",
        "        sub_result = multiply_lists(*remaining_lists)\n",
        "        for item2 in sub_result:\n",
        "          temp.append(item1 * item2)\n",
        "\n",
        "      return temp\n",
        "\n",
        "    def equal_interval(self, start_b, end_b, number_of_buckets, include_mid_point=False):\n",
        "      buckets = []\n",
        "\n",
        "      for i in range(len(start_b)):\n",
        "        bp = np.linspace(start_b[i], end_b[i], number_of_buckets + 1)\n",
        "        bkt = []\n",
        "\n",
        "        for j in range(len(bp) - 1):\n",
        "          if include_mid_point:\n",
        "            midpoint = (bp[j] + bp[j + 1]) / 2\n",
        "            bkt.append((bp[j], bp[j + 1], midpoint))\n",
        "          else:\n",
        "            bkt.append((bp[j], bp[j + 1]))\n",
        "\n",
        "        buckets.append(bkt)\n",
        "\n",
        "      return buckets\n",
        "\n",
        "    def create_buckets(self, args, number_of_buckets, strategy=\"equal_interval\", include_mid_point=False):\n",
        "      buckets = []\n",
        "\n",
        "      if strategy == \"equal_interval\" and len(args) == 2:\n",
        "        buckets = self.equal_interval([args[0]], [args[1]], number_of_buckets, include_mid_point)\n",
        "\n",
        "      elif strategy == \"equal_interval\" and len(args) == 1:\n",
        "        m, s = self.dist_stats(args[0])\n",
        "        start_end = self.start_end_dist(m, s)\n",
        "        buckets = self.equal_interval(start_end[0], start_end[1], number_of_buckets, include_mid_point)\n",
        "\n",
        "      return buckets\n",
        "\n",
        "    def bucket_probability(self, dist, start, end):\n",
        "      return dist.cdf(end) - dist.cdf(start)\n",
        "\n",
        "    def discrete_probability(self, dist, buckets):\n",
        "      disc_prob = []\n",
        "      prob_dim = []\n",
        "      dist_prob = []\n",
        "\n",
        "      for i in range(len(dist)):\n",
        "        temp_prob = []\n",
        "        prob_dim.append(len(buckets[i]))\n",
        "        for b in buckets[i]:\n",
        "          prob = self.bucket_probability(dist[i], b[0], b[1])\n",
        "          temp_prob.append(prob)\n",
        "\n",
        "        dist_prob.append(temp_prob)\n",
        "\n",
        "      disc_prob = np.array(self.multiply_lists(*dist_prob)).reshape(prob_dim)\n",
        "\n",
        "      return disc_prob\n",
        "\n",
        "\n",
        "    def likelihood_probability(self, start_obs, end_obs):\n",
        "      self.likelihood_buckets = self.create_buckets([start_obs, end_obs],\n",
        "                                                    self.num_of_buckets * 2)\n",
        "      likelihood_matrix = []\n",
        "\n",
        "      # index 0 because trying for one distribution\n",
        "      for i, prior_b in enumerate(self.prior_buckets[0]):\n",
        "        prob_i = self.prior_prob[i]\n",
        "        likelihood_i = []\n",
        "\n",
        "        # index 0 because trying for one distribution\n",
        "        for obs_b in self.likelihood_buckets[0]:\n",
        "          prob_ij, _ = integrate.quad(lambda mu: self.bucket_probability(self.likelihood_dist(mu),\n",
        "                                                                         obs_b[0],\n",
        "                                                                         obs_b[1]) * prob_i,\n",
        "                                      prior_b[0], prior_b[1])\n",
        "          likelihood_i.append(prob_ij)\n",
        "\n",
        "        likelihood_matrix.append(likelihood_i)\n",
        "\n",
        "      likelihood_matrix = np.asarray(likelihood_matrix)\n",
        "      return likelihood_matrix\n",
        "\n",
        "    def posterior_probability(self):\n",
        "      evidence_prob = np.sum(self.likelihood_prob, axis=0)\n",
        "\n",
        "      posterior_prob = []\n",
        "\n",
        "      for i in range(len(self.prior_prob)):\n",
        "        temp = []\n",
        "\n",
        "        for j in range(len(evidence_prob)):\n",
        "          temp.append(self.likelihood_prob[i,j] / evidence_prob[j])\n",
        "\n",
        "        posterior_prob.append(temp)\n",
        "\n",
        "      posterior_prob = np.asarray(posterior_prob).T\n",
        "      return posterior_prob\n",
        "\n",
        "\n",
        "    def calculate_posterior(self, x):\n",
        "      for i in range(len(self.likelihood_buckets[0])):\n",
        "        b_i, b_j = self.likelihood_buckets[0][i]\n",
        "        if x >= b_i and x < b_j:\n",
        "          return self.posterior_prob[i]"
      ],
      "metadata": {
        "id": "-g0XQp5WPaNT"
      },
      "execution_count": 36,
      "outputs": []
    },
    {
      "cell_type": "code",
      "source": [
        "# Example usage\n",
        "prior_mean = 3\n",
        "prior_std = 1\n",
        "num_of_buckets = 6\n",
        "likelihood_std = 0.5\n",
        "\n",
        "likelihood_space = lambda mu: norm(mu, likelihood_std)\n",
        "prior_space = norm(prior_mean, prior_std)\n",
        "\n",
        "def likelihood_dist(mu):\n",
        "    return norm(mu, likelihood_std)\n",
        "\n",
        "start_obs = prior_mean - 3 * prior_std - 3 * likelihood_std\n",
        "end_obs = prior_mean + 3 * prior_std + 3 * likelihood_std\n",
        "\n",
        "obj = BayesProblem([prior_space], likelihood_dist, [start_obs, end_obs], num_of_buckets)"
      ],
      "metadata": {
        "id": "EdRZWO_4Qv-u"
      },
      "execution_count": 37,
      "outputs": []
    },
    {
      "cell_type": "code",
      "source": [
        "obj.posterior_prob"
      ],
      "metadata": {
        "colab": {
          "base_uri": "https://localhost:8080/"
        },
        "id": "vGL9r7CejFdQ",
        "outputId": "7a9c6130-f4ea-4b44-a826-e73d96321fb5"
      },
      "execution_count": 38,
      "outputs": [
        {
          "output_type": "execute_result",
          "data": {
            "text/plain": [
              "array([[9.87307895e-01, 1.26903297e-02, 1.77568280e-06, 2.24504380e-12,\n",
              "        2.34904210e-20, 1.93308746e-30],\n",
              "       [8.70743191e-01, 1.28982189e-01, 2.74614629e-04, 6.01199699e-09,\n",
              "        1.15589170e-15, 1.80187240e-24],\n",
              "       [4.35183237e-01, 5.50086637e-01, 1.47250069e-02, 5.11942025e-06,\n",
              "        1.73727141e-11, 5.02353082e-19],\n",
              "       [8.37736597e-02, 7.30674898e-01, 1.84681028e-01, 8.70365531e-04,\n",
              "        4.85678568e-08, 2.51842555e-14],\n",
              "       [5.39932429e-03, 3.40734429e-01, 6.23123343e-01, 3.07181496e-02,\n",
              "        2.47537297e-05, 2.17149295e-10],\n",
              "       [9.06716268e-05, 5.40283491e-02, 6.81769334e-01, 2.61681147e-01,\n",
              "        2.43017410e-03, 3.24381899e-07],\n",
              "       [3.24381899e-07, 2.43017410e-03, 2.61681147e-01, 6.81769334e-01,\n",
              "        5.40283491e-02, 9.06716268e-05],\n",
              "       [2.17149292e-10, 2.47537297e-05, 3.07181496e-02, 6.23123343e-01,\n",
              "        3.40734429e-01, 5.39932429e-03],\n",
              "       [2.51873278e-14, 4.85678568e-08, 8.70365531e-04, 1.84681028e-01,\n",
              "        7.30674898e-01, 8.37736597e-02],\n",
              "       [0.00000000e+00, 1.73726726e-11, 5.11942025e-06, 1.47250069e-02,\n",
              "        5.50086637e-01, 4.35183237e-01],\n",
              "       [0.00000000e+00, 1.06864788e-15, 6.01199714e-09, 2.74614629e-04,\n",
              "        1.28982189e-01, 8.70743191e-01],\n",
              "       [0.00000000e+00, 0.00000000e+00, 2.23950008e-12, 1.77568277e-06,\n",
              "        1.26903297e-02, 9.87307895e-01]])"
            ]
          },
          "metadata": {},
          "execution_count": 38
        }
      ]
    },
    {
      "cell_type": "code",
      "source": [
        "observed_data = norm.rvs(loc=2, scale=likelihood_std, size=10)\n",
        "observed_data"
      ],
      "metadata": {
        "colab": {
          "base_uri": "https://localhost:8080/"
        },
        "id": "7ZjF0XQ8bPsY",
        "outputId": "fa966dae-d529-46a4-dc8e-4372011dabe3"
      },
      "execution_count": 39,
      "outputs": [
        {
          "output_type": "execute_result",
          "data": {
            "text/plain": [
              "array([3.18755612, 1.45621405, 2.02202744, 1.64778234, 2.14973402,\n",
              "       1.75308178, 0.86954731, 3.27933319, 1.67753759, 2.14848969])"
            ]
          },
          "metadata": {},
          "execution_count": 39
        }
      ]
    },
    {
      "cell_type": "code",
      "source": [
        "x = 1.9587854306724626\n",
        "\n",
        "observed_pdf = obj.calculate_posterior(x)\n",
        "observed_pdf"
      ],
      "metadata": {
        "colab": {
          "base_uri": "https://localhost:8080/"
        },
        "id": "mgOPkVqYc5sj",
        "outputId": "aedbbccd-a12b-4ecf-9c7c-ed60f7a3fa6a"
      },
      "execution_count": 40,
      "outputs": [
        {
          "output_type": "execute_result",
          "data": {
            "text/plain": [
              "array([5.39932429e-03, 3.40734429e-01, 6.23123343e-01, 3.07181496e-02,\n",
              "       2.47537297e-05, 2.17149295e-10])"
            ]
          },
          "metadata": {},
          "execution_count": 40
        }
      ]
    },
    {
      "cell_type": "code",
      "source": [
        "bar_x = []\n",
        "bar_xx = []\n",
        "prior_bkts = obj.prior_buckets[0]\n",
        "\n",
        "for i,j,k in prior_bkts:\n",
        "  bar_x.append(k)\n",
        "  bar_xx.extend([i,j])\n",
        "\n",
        "# x = [observed_data[0]]\n",
        "x = [1.9587854306724626]\n",
        "\n",
        "actual_mean = (likelihood_std**2 * prior_mean + prior_std**2 * np.sum(x)) / (len(x) * prior_std**2 + likelihood_std**2)\n",
        "actual_std = np.sqrt(1 / (1/prior_std**2 + len(x)/likelihood_std**2))\n",
        "line_x = np.linspace(prior_bkts[0][0], prior_bkts[-1][1], 100)\n",
        "actual_pdf = norm.pdf(line_x, actual_mean, actual_std)\n",
        "\n",
        "observed_pdf = obj.calculate_posterior(x)\n",
        "\n",
        "plt.bar(bar_x, observed_pdf, width=1)\n",
        "plt.plot(line_x, actual_pdf, color='r')\n",
        "plt.show()"
      ],
      "metadata": {
        "colab": {
          "base_uri": "https://localhost:8080/",
          "height": 430
        },
        "id": "JOvxKlpWX50U",
        "outputId": "07377ada-19ea-452b-9552-c33eeef55b07"
      },
      "execution_count": 42,
      "outputs": [
        {
          "output_type": "display_data",
          "data": {
            "text/plain": [
              "<Figure size 640x480 with 1 Axes>"
            ],
            "image/png": "[encoded data removed]"
          },
          "metadata": {}
        }
      ]
    },
    {
      "cell_type": "code",
      "source": [],
      "metadata": {
        "id": "Y9fQnbaBcQQG"
      },
      "execution_count": null,
      "outputs": []
    }
  ]
}